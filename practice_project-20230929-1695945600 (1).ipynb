{
 "cells": [
  {
   "cell_type": "markdown",
   "id": "9d2d654d-5502-4e66-871f-1f5907c4c53a",
   "metadata": {},
   "source": [
    "<p style=\"text-align:center\">\n",
    "    <a href=\"https://skills.network\" target=\"_blank\">\n",
    "    <img src=\"https://cf-courses-data.s3.us.cloud-object-storage.appdomain.cloud/assets/logos/SN_web_lightmode.png\" width=\"200\" alt=\"Skills Network Logo\">\n",
    "    </a>\n",
    "</p>\n"
   ]
  },
  {
   "cell_type": "markdown",
   "id": "8c09024f-5fd1-4df4-a845-ea1a43e18189",
   "metadata": {},
   "source": [
    "# **Practice Project: Insurance Cost Analysis**\n",
    "\n",
    "Estimated time needed: **75** minutes\n",
    "\n",
    "In this project, you have to perform analytics operations on an insurance database that uses the below mentioned parameters.\n",
    "\n",
    "| Parameter |Description| Content type |\n",
    "|---|----|---|\n",
    "|age| Age in years| integer |\n",
    "|gender| Male or Female|integer (1 or 2)|\n",
    "| bmi | Body mass index | float |\n",
    "|no_of_children| Number of children | integer|\n",
    "|smoker| Whether smoker or not | integer (0 or 1)|\n",
    "|region| Which US region - NW, NE, SW, SE | integer (1,2,3 or 4 respectively)| \n",
    "|charges| Annual Insurance charges in USD | float|\n",
    "\n",
    "## Objectives \n",
    "In this project, you will:\n",
    " - Load the data as a `pandas` dataframe\n",
    " - Clean the data, taking care of the blank entries\n",
    " - Run exploratory data analysis (EDA) and identify the attributes that most affect the `charges`\n",
    " - Develop single variable and multi variable Linear Regression models for predicting the `charges`\n",
    " - Use Ridge regression to refine the performance of Linear regression models. \n",
    " \n"
   ]
  },
  {
   "cell_type": "markdown",
   "id": "e2a576e8-95fc-44f8-a4da-3452fab03ef6",
   "metadata": {},
   "source": [
    "# Setup\n"
   ]
  },
  {
   "cell_type": "markdown",
   "id": "6c3c57a8-9e38-4a98-b373-6ea268a0e758",
   "metadata": {},
   "source": [
    "For this lab, we will be using the following libraries:\n",
    "\n",
    "*   [`pandas`](https://pandas.pydata.org/?utm_medium=Exinfluencer&utm_source=Exinfluencer&utm_content=000026UJ&utm_term=10006555&utm_id=NA-SkillsNetwork-Channel-SkillsNetworkCoursesIBMML0187ENSkillsNetwork31430127-2021-01-01) for managing the data.\n",
    "*   [`numpy`](https://numpy.org/?utm_medium=Exinfluencer&utm_source=Exinfluencer&utm_content=000026UJ&utm_term=10006555&utm_id=NA-SkillsNetwork-Channel-SkillsNetworkCoursesIBMML0187ENSkillsNetwork31430127-2021-01-01) for mathematical operations.\n",
    "*   [`sklearn`](https://scikit-learn.org/stable/?utm_medium=Exinfluencer&utm_source=Exinfluencer&utm_content=000026UJ&utm_term=10006555&utm_id=NA-SkillsNetwork-Channel-SkillsNetworkCoursesIBMML0187ENSkillsNetwork31430127-2021-01-01) for machine learning and machine-learning-pipeline related functions.\n",
    "*   [`seaborn`](https://seaborn.pydata.org/?utm_medium=Exinfluencer&utm_source=Exinfluencer&utm_content=000026UJ&utm_term=10006555&utm_id=NA-SkillsNetwork-Channel-SkillsNetworkCoursesIBMML0187ENSkillsNetwork31430127-2021-01-01) for visualizing the data.\n",
    "*   [`matplotlib`](https://matplotlib.org/?utm_medium=Exinfluencer&utm_source=Exinfluencer&utm_content=000026UJ&utm_term=10006555&utm_id=NA-SkillsNetwork-Channel-SkillsNetworkCoursesIBMML0187ENSkillsNetwork31430127-2021-01-01) for additional plotting tools.\n"
   ]
  },
  {
   "cell_type": "markdown",
   "id": "a958065c-70f2-4fc9-b44d-c0a41617f244",
   "metadata": {},
   "source": [
    "The following required libraries are __not__ pre-installed in the Skills Network Labs environment. __You will need to run the following cell__ to install them:\n"
   ]
  },
  {
   "cell_type": "code",
   "execution_count": null,
   "id": "621f6a1f-1045-4152-9db7-0fc67434b2da",
   "metadata": {},
   "outputs": [],
   "source": [
    "%pip install seaborn"
   ]
  },
  {
   "cell_type": "markdown",
   "id": "36868f00-7a59-4124-8527-e5260c56071a",
   "metadata": {},
   "source": [
    "### Importing Required Libraries\n",
    "\n",
    "_We recommend you import all required libraries in one place (here):_\n"
   ]
  },
  {
   "cell_type": "code",
   "execution_count": 1,
   "id": "a9f3be1b-f82d-4e08-b312-fdeacb6a7a95",
   "metadata": {},
   "outputs": [],
   "source": [
    "import pandas as pd\n",
    "import matplotlib.pyplot as plt\n",
    "import numpy as np\n",
    "import seaborn as sns\n",
    "from sklearn.pipeline import Pipeline\n",
    "from sklearn.preprocessing import StandardScaler, PolynomialFeatures\n",
    "from sklearn.linear_model import LinearRegression, Ridge\n",
    "from sklearn.metrics import mean_squared_error, r2_score\n",
    "from sklearn.model_selection import cross_val_score, train_test_split"
   ]
  },
  {
   "cell_type": "markdown",
   "id": "dcdfb30f-39cb-45e0-b406-47843d6088c7",
   "metadata": {},
   "source": [
    "<details>\n",
    "    <summary>Click here for Solution</summary>\n",
    "\n",
    "```python\n",
    "import pandas as pd\n",
    "import matplotlib.pyplot as plt\n",
    "import numpy as np\n",
    "import seaborn as sns\n",
    "from sklearn.pipeline import Pipeline\n",
    "from sklearn.preprocessing import StandardScaler, PolynomialFeatures\n",
    "from sklearn.linear_model import LinearRegression, Ridge\n",
    "from sklearn.metrics import mean_squared_error, r2_score\n",
    "from sklearn.model_selection import cross_val_score, train_test_split\n",
    "```\n",
    "\n",
    "</details>\n"
   ]
  },
  {
   "cell_type": "markdown",
   "id": "981d8188-8291-4d15-bf99-526c2fd2a491",
   "metadata": {},
   "source": [
    "### Download the dataset to this lab environment\n",
    "\n",
    "Run the cell below to load the dataset to this lab environment.\n"
   ]
  },
  {
   "cell_type": "code",
   "execution_count": 2,
   "id": "271af0ff-0345-4af3-b764-285178882646",
   "metadata": {},
   "outputs": [],
   "source": [
    "path = 'https://cf-courses-data.s3.us.cloud-object-storage.appdomain.cloud/IBMDeveloperSkillsNetwork-DA0101EN-Coursera/medical_insurance_dataset.csv'"
   ]
  },
  {
   "cell_type": "markdown",
   "id": "cd761e9b-e54e-4c0c-892f-04a272e4ae2c",
   "metadata": {},
   "source": [
    "# Task 1 : Import the dataset\n",
    "\n",
    "Import the dataset into a `pandas` dataframe. Note that there are currently no headers in the CSV file. \n",
    "\n",
    "Print the first 10 rows of the dataframe to confirm successful loading.\n"
   ]
  },
  {
   "cell_type": "code",
   "execution_count": 3,
   "id": "3f256a00-bece-4048-af93-e2f55abe19a8",
   "metadata": {},
   "outputs": [
    {
     "name": "stdout",
     "output_type": "stream",
     "text": [
      "    0  1       2  3  4  5            6\n",
      "0  19  1  27.900  0  1  3  16884.92400\n",
      "1  18  2  33.770  1  0  4   1725.55230\n",
      "2  28  2  33.000  3  0  4   4449.46200\n",
      "3  33  2  22.705  0  0  1  21984.47061\n",
      "4  32  2  28.880  0  0  1   3866.85520\n",
      "5  31  1  25.740  0  ?  4   3756.62160\n",
      "6  46  1  33.440  1  0  4   8240.58960\n",
      "7  37  1  27.740  3  0  1   7281.50560\n",
      "8  37  2  29.830  2  0  2   6406.41070\n",
      "9  60  1  25.840  0  0  1  28923.13692\n"
     ]
    }
   ],
   "source": [
    "df = pd.read_csv(path, header=None)\n",
    "print(df.head(10))"
   ]
  },
  {
   "cell_type": "markdown",
   "id": "e6ccd2d7-c7e0-4690-ab7e-6099baa4e676",
   "metadata": {},
   "source": [
    "<details>\n",
    "    <summary>Click here for Solution</summary>\n",
    "\n",
    "```python\n",
    "df = pd.read_csv(path, header=None)\n",
    "print(df.head(10))\n",
    "```\n",
    "\n",
    "</details>\n"
   ]
  },
  {
   "cell_type": "markdown",
   "id": "397d549b-d998-4b47-bf49-14f0ed67f5c1",
   "metadata": {},
   "source": [
    "Add the headers to the dataframe, as mentioned in the project scenario. \n"
   ]
  },
  {
   "cell_type": "code",
   "execution_count": 4,
   "id": "7b55cb26-5a6d-4d42-b370-792b81bd50dc",
   "metadata": {},
   "outputs": [],
   "source": [
    "headers = [\"age\", \"gender\", \"bmi\", \"no_of_children\", \"smoker\", \"region\", \"charges\"]\n",
    "df.columns = headers"
   ]
  },
  {
   "cell_type": "code",
   "execution_count": 5,
   "metadata": {},
   "outputs": [
    {
     "data": {
      "text/html": [
       "<div>\n",
       "<style scoped>\n",
       "    .dataframe tbody tr th:only-of-type {\n",
       "        vertical-align: middle;\n",
       "    }\n",
       "\n",
       "    .dataframe tbody tr th {\n",
       "        vertical-align: top;\n",
       "    }\n",
       "\n",
       "    .dataframe thead th {\n",
       "        text-align: right;\n",
       "    }\n",
       "</style>\n",
       "<table border=\"1\" class=\"dataframe\">\n",
       "  <thead>\n",
       "    <tr style=\"text-align: right;\">\n",
       "      <th></th>\n",
       "      <th>age</th>\n",
       "      <th>gender</th>\n",
       "      <th>bmi</th>\n",
       "      <th>no_of_children</th>\n",
       "      <th>smoker</th>\n",
       "      <th>region</th>\n",
       "      <th>charges</th>\n",
       "    </tr>\n",
       "  </thead>\n",
       "  <tbody>\n",
       "    <tr>\n",
       "      <th>0</th>\n",
       "      <td>19</td>\n",
       "      <td>1</td>\n",
       "      <td>27.900</td>\n",
       "      <td>0</td>\n",
       "      <td>1</td>\n",
       "      <td>3</td>\n",
       "      <td>16884.92400</td>\n",
       "    </tr>\n",
       "    <tr>\n",
       "      <th>1</th>\n",
       "      <td>18</td>\n",
       "      <td>2</td>\n",
       "      <td>33.770</td>\n",
       "      <td>1</td>\n",
       "      <td>0</td>\n",
       "      <td>4</td>\n",
       "      <td>1725.55230</td>\n",
       "    </tr>\n",
       "    <tr>\n",
       "      <th>2</th>\n",
       "      <td>28</td>\n",
       "      <td>2</td>\n",
       "      <td>33.000</td>\n",
       "      <td>3</td>\n",
       "      <td>0</td>\n",
       "      <td>4</td>\n",
       "      <td>4449.46200</td>\n",
       "    </tr>\n",
       "    <tr>\n",
       "      <th>3</th>\n",
       "      <td>33</td>\n",
       "      <td>2</td>\n",
       "      <td>22.705</td>\n",
       "      <td>0</td>\n",
       "      <td>0</td>\n",
       "      <td>1</td>\n",
       "      <td>21984.47061</td>\n",
       "    </tr>\n",
       "    <tr>\n",
       "      <th>4</th>\n",
       "      <td>32</td>\n",
       "      <td>2</td>\n",
       "      <td>28.880</td>\n",
       "      <td>0</td>\n",
       "      <td>0</td>\n",
       "      <td>1</td>\n",
       "      <td>3866.85520</td>\n",
       "    </tr>\n",
       "    <tr>\n",
       "      <th>...</th>\n",
       "      <td>...</td>\n",
       "      <td>...</td>\n",
       "      <td>...</td>\n",
       "      <td>...</td>\n",
       "      <td>...</td>\n",
       "      <td>...</td>\n",
       "      <td>...</td>\n",
       "    </tr>\n",
       "    <tr>\n",
       "      <th>2767</th>\n",
       "      <td>47</td>\n",
       "      <td>1</td>\n",
       "      <td>45.320</td>\n",
       "      <td>1</td>\n",
       "      <td>0</td>\n",
       "      <td>4</td>\n",
       "      <td>8569.86180</td>\n",
       "    </tr>\n",
       "    <tr>\n",
       "      <th>2768</th>\n",
       "      <td>21</td>\n",
       "      <td>1</td>\n",
       "      <td>34.600</td>\n",
       "      <td>0</td>\n",
       "      <td>0</td>\n",
       "      <td>3</td>\n",
       "      <td>2020.17700</td>\n",
       "    </tr>\n",
       "    <tr>\n",
       "      <th>2769</th>\n",
       "      <td>19</td>\n",
       "      <td>2</td>\n",
       "      <td>26.030</td>\n",
       "      <td>1</td>\n",
       "      <td>1</td>\n",
       "      <td>1</td>\n",
       "      <td>16450.89470</td>\n",
       "    </tr>\n",
       "    <tr>\n",
       "      <th>2770</th>\n",
       "      <td>23</td>\n",
       "      <td>2</td>\n",
       "      <td>18.715</td>\n",
       "      <td>0</td>\n",
       "      <td>0</td>\n",
       "      <td>1</td>\n",
       "      <td>21595.38229</td>\n",
       "    </tr>\n",
       "    <tr>\n",
       "      <th>2771</th>\n",
       "      <td>54</td>\n",
       "      <td>2</td>\n",
       "      <td>31.600</td>\n",
       "      <td>0</td>\n",
       "      <td>0</td>\n",
       "      <td>3</td>\n",
       "      <td>9850.43200</td>\n",
       "    </tr>\n",
       "  </tbody>\n",
       "</table>\n",
       "<p>2772 rows × 7 columns</p>\n",
       "</div>"
      ],
      "text/plain": [
       "     age  gender     bmi  no_of_children smoker  region      charges\n",
       "0     19       1  27.900               0      1       3  16884.92400\n",
       "1     18       2  33.770               1      0       4   1725.55230\n",
       "2     28       2  33.000               3      0       4   4449.46200\n",
       "3     33       2  22.705               0      0       1  21984.47061\n",
       "4     32       2  28.880               0      0       1   3866.85520\n",
       "...   ..     ...     ...             ...    ...     ...          ...\n",
       "2767  47       1  45.320               1      0       4   8569.86180\n",
       "2768  21       1  34.600               0      0       3   2020.17700\n",
       "2769  19       2  26.030               1      1       1  16450.89470\n",
       "2770  23       2  18.715               0      0       1  21595.38229\n",
       "2771  54       2  31.600               0      0       3   9850.43200\n",
       "\n",
       "[2772 rows x 7 columns]"
      ]
     },
     "execution_count": 5,
     "metadata": {},
     "output_type": "execute_result"
    }
   ],
   "source": [
    "df"
   ]
  },
  {
   "cell_type": "markdown",
   "id": "ca4a8ef0-3a1d-416f-9341-f934ab6683d2",
   "metadata": {},
   "source": [
    "<details>\n",
    "    <summary>Click here for Solution</summary>\n",
    "\n",
    "```python\n",
    "headers = [\"age\", \"gender\", \"bmi\", \"no_of_children\", \"smoker\", \"region\", \"charges\"]\n",
    "df.columns = headers\n",
    "```\n",
    "\n",
    "</details>\n"
   ]
  },
  {
   "cell_type": "code",
   "execution_count": 6,
   "metadata": {},
   "outputs": [
    {
     "data": {
      "text/plain": [
       "age               0\n",
       "gender            0\n",
       "bmi               0\n",
       "no_of_children    0\n",
       "smoker            0\n",
       "region            0\n",
       "charges           0\n",
       "dtype: int64"
      ]
     },
     "execution_count": 6,
     "metadata": {},
     "output_type": "execute_result"
    }
   ],
   "source": [
    "df.isnull().sum()"
   ]
  },
  {
   "cell_type": "markdown",
   "id": "34ef47c6-93e1-4bfa-8c0d-816733587559",
   "metadata": {},
   "source": [
    "Now, replace the '?' entries with 'NaN' values.\n"
   ]
  },
  {
   "cell_type": "code",
   "execution_count": 7,
   "id": "b93d3eb8-1954-4203-a001-467363c07e48",
   "metadata": {},
   "outputs": [],
   "source": [
    "df.replace('?', np.nan, inplace = True)"
   ]
  },
  {
   "cell_type": "markdown",
   "id": "d755db34-6799-4f82-b500-3ab4f6cb281d",
   "metadata": {},
   "source": [
    "<details>\n",
    "    <summary>Click here for Solution</summary>\n",
    "\n",
    "```python\n",
    "df.replace('?', np.nan, inplace = True)\n",
    "```\n",
    "\n",
    "</details>\n"
   ]
  },
  {
   "cell_type": "markdown",
   "id": "9ba9548b-3bd3-4310-8b69-5591deba8928",
   "metadata": {},
   "source": [
    "# Task 2 : Data Wrangling\n"
   ]
  },
  {
   "cell_type": "markdown",
   "id": "1a307170-dfae-4bd9-8668-ab759b475958",
   "metadata": {},
   "source": [
    "Use `dataframe.info()` to identify the columns that have some 'Null' (or NaN) information.\n"
   ]
  },
  {
   "cell_type": "code",
   "execution_count": 8,
   "id": "4e324742-9106-464f-b689-c5af987642ab",
   "metadata": {},
   "outputs": [
    {
     "name": "stdout",
     "output_type": "stream",
     "text": [
      "<class 'pandas.core.frame.DataFrame'>\n",
      "RangeIndex: 2772 entries, 0 to 2771\n",
      "Data columns (total 7 columns):\n",
      " #   Column          Non-Null Count  Dtype  \n",
      "---  ------          --------------  -----  \n",
      " 0   age             2768 non-null   object \n",
      " 1   gender          2772 non-null   int64  \n",
      " 2   bmi             2772 non-null   float64\n",
      " 3   no_of_children  2772 non-null   int64  \n",
      " 4   smoker          2765 non-null   object \n",
      " 5   region          2772 non-null   int64  \n",
      " 6   charges         2772 non-null   float64\n",
      "dtypes: float64(2), int64(3), object(2)\n",
      "memory usage: 151.7+ KB\n"
     ]
    }
   ],
   "source": [
    "df.info()"
   ]
  },
  {
   "cell_type": "markdown",
   "id": "83ec1324-216b-4f9a-a809-879a7ba282bb",
   "metadata": {},
   "source": [
    "<details>\n",
    "    <summary>Click here for Solution</summary>\n",
    "\n",
    "```python\n",
    "print(df.info())\n",
    "```\n",
    "\n",
    "</details>\n"
   ]
  },
  {
   "cell_type": "markdown",
   "id": "2f7ca9fd-8bef-4f8b-9053-a80602878bcf",
   "metadata": {},
   "source": [
    "Handle missing data:\n",
    "\n",
    "- For continuous attributes (e.g., age), replace missing values with the mean.\n",
    "- For categorical attributes (e.g., smoker), replace missing values with the most frequent value.\n",
    "- Update the data types of the respective columns.\n",
    "- Verify the update using `df.info()`.\n"
   ]
  },
  {
   "cell_type": "code",
   "execution_count": 9,
   "id": "0cd45889-201d-45cb-a4ab-921423676130",
   "metadata": {},
   "outputs": [
    {
     "data": {
      "text/plain": [
       "'0'"
      ]
     },
     "execution_count": 9,
     "metadata": {},
     "output_type": "execute_result"
    }
   ],
   "source": [
    "is_smoker = df['smoker'].value_counts().idxmax()\n",
    "is_smoker"
   ]
  },
  {
   "cell_type": "code",
   "execution_count": 10,
   "metadata": {},
   "outputs": [
    {
     "data": {
      "text/plain": [
       "array(['1', '0', nan], dtype=object)"
      ]
     },
     "execution_count": 10,
     "metadata": {},
     "output_type": "execute_result"
    }
   ],
   "source": [
    "df['smoker'].unique()"
   ]
  },
  {
   "cell_type": "code",
   "execution_count": 11,
   "metadata": {},
   "outputs": [
    {
     "data": {
      "text/plain": [
       "0    2201\n",
       "1     564\n",
       "Name: smoker, dtype: int64"
      ]
     },
     "execution_count": 11,
     "metadata": {},
     "output_type": "execute_result"
    }
   ],
   "source": [
    "df['smoker'].value_counts()"
   ]
  },
  {
   "cell_type": "code",
   "execution_count": 13,
   "metadata": {},
   "outputs": [],
   "source": [
    "df[\"smoker\"].replace(np.nan, is_smoker, inplace=True)\n"
   ]
  },
  {
   "cell_type": "code",
   "execution_count": 15,
   "metadata": {},
   "outputs": [],
   "source": [
    "# age is a continuous variable, replace with mean age\n",
    "mean_age = df['age'].astype('float').mean(axis=0)\n",
    "df[\"age\"].replace(np.nan, mean_age, inplace=True)\n"
   ]
  },
  {
   "cell_type": "code",
   "execution_count": 16,
   "metadata": {},
   "outputs": [],
   "source": [
    "# Update data types\n",
    "df[[\"age\",\"smoker\"]] = df[[\"age\",\"smoker\"]].astype(\"int\")"
   ]
  },
  {
   "cell_type": "code",
   "execution_count": 17,
   "metadata": {},
   "outputs": [
    {
     "name": "stdout",
     "output_type": "stream",
     "text": [
      "<class 'pandas.core.frame.DataFrame'>\n",
      "RangeIndex: 2772 entries, 0 to 2771\n",
      "Data columns (total 7 columns):\n",
      " #   Column          Non-Null Count  Dtype  \n",
      "---  ------          --------------  -----  \n",
      " 0   age             2772 non-null   int32  \n",
      " 1   gender          2772 non-null   int64  \n",
      " 2   bmi             2772 non-null   float64\n",
      " 3   no_of_children  2772 non-null   int64  \n",
      " 4   smoker          2772 non-null   int32  \n",
      " 5   region          2772 non-null   int64  \n",
      " 6   charges         2772 non-null   float64\n",
      "dtypes: float64(2), int32(2), int64(3)\n",
      "memory usage: 130.1 KB\n"
     ]
    }
   ],
   "source": [
    "df.info()"
   ]
  },
  {
   "cell_type": "markdown",
   "metadata": {},
   "source": [
    "<details>\n",
    "    <summary>Click here for Solution</summary>\n",
    "\n",
    "```python\n",
    "# smoker is a categorical attribute, replace with most frequent entry\n",
    "is_smoker = df['smoker'].value_counts().idxmax()\n",
    "df[\"smoker\"].replace(np.nan, is_smoker, inplace=True)\n",
    "\n",
    "# age is a continuous variable, replace with mean age\n",
    "mean_age = df['age'].astype('float').mean(axis=0)\n",
    "df[\"age\"].replace(np.nan, mean_age, inplace=True)\n",
    "\n",
    "# Update data types\n",
    "df[[\"age\",\"smoker\"]] = df[[\"age\",\"smoker\"]].astype(\"int\")\n",
    "\n",
    "print(df.info())\n",
    "```\n",
    "\n",
    "</details>\n"
   ]
  },
  {
   "cell_type": "markdown",
   "id": "a6c89bca-c7d2-407d-8874-d1e1cfce1216",
   "metadata": {},
   "source": [
    "Also note, that the `charges` column has values which are more than 2 decimal places long. Update the `charges` column such that all values are rounded to nearest 2 decimal places. Verify conversion by printing the first 5 values of the updated dataframe.\n"
   ]
  },
  {
   "cell_type": "code",
   "execution_count": 18,
   "id": "aecbd133-94f1-418f-8050-873deb97e285",
   "metadata": {},
   "outputs": [
    {
     "name": "stdout",
     "output_type": "stream",
     "text": [
      "   age  gender     bmi  no_of_children  smoker  region   charges\n",
      "0   19       1  27.900               0       1       3  16884.92\n",
      "1   18       2  33.770               1       0       4   1725.55\n",
      "2   28       2  33.000               3       0       4   4449.46\n",
      "3   33       2  22.705               0       0       1  21984.47\n",
      "4   32       2  28.880               0       0       1   3866.86\n"
     ]
    }
   ],
   "source": [
    "df[[\"charges\"]] = np.round(df[[\"charges\"]],2)\n",
    "print(df.head())"
   ]
  },
  {
   "cell_type": "markdown",
   "id": "47762271-f81e-4b7b-9782-27c33d34c067",
   "metadata": {},
   "source": [
    "<details>\n",
    "    <summary>Click here for Solution</summary>\n",
    "\n",
    "```python\n",
    "df[[\"charges\"]] = np.round(df[[\"charges\"]],2)\n",
    "print(df.head())\n",
    "```\n",
    "</details>\n"
   ]
  },
  {
   "cell_type": "markdown",
   "id": "42b99733-2d6e-44a8-8128-fa21010f9ff3",
   "metadata": {},
   "source": [
    "# Task 3 : Exploratory Data Analysis (EDA)\n",
    "\n",
    "Implement the regression plot for `charges` with respect to `bmi`. \n"
   ]
  },
  {
   "cell_type": "code",
   "execution_count": 19,
   "id": "7a68dcb2-2c34-4698-abe3-0376f2bb3489",
   "metadata": {},
   "outputs": [
    {
     "data": {
      "text/plain": [
       "(0.0, 66902.85800000001)"
      ]
     },
     "execution_count": 19,
     "metadata": {},
     "output_type": "execute_result"
    },
    {
     "data": {
      "image/png": "[encoded data removed]",
      "text/plain": [
       "<Figure size 432x288 with 1 Axes>"
      ]
     },
     "metadata": {
      "needs_background": "light"
     },
     "output_type": "display_data"
    }
   ],
   "source": [
    "sns.regplot(x=\"bmi\", y=\"charges\", data=df, line_kws={\"color\": \"red\"})\n",
    "plt.ylim(0,)"
   ]
  },
  {
   "cell_type": "markdown",
   "id": "f96fb73c-b78b-4dcd-8de3-fea8965c53d6",
   "metadata": {},
   "source": [
    "<details>\n",
    "    <summary>Click here for Solution</summary>\n",
    "\n",
    "```python\n",
    "sns.regplot(x=\"bmi\", y=\"charges\", data=df, line_kws={\"color\": \"red\"})\n",
    "plt.ylim(0,)\n",
    "```\n",
    "</details>\n"
   ]
  },
  {
   "cell_type": "markdown",
   "id": "5a7d9451-d246-45e7-92c9-e65481c093d0",
   "metadata": {},
   "source": [
    "Implement the box plot for `charges` with respect to `smoker`.\n"
   ]
  },
  {
   "cell_type": "code",
   "execution_count": 20,
   "id": "b425ab42-04ef-4747-a954-8c7dc1939dc0",
   "metadata": {},
   "outputs": [
    {
     "data": {
      "text/plain": [
       "<AxesSubplot:xlabel='smoker', ylabel='charges'>"
      ]
     },
     "execution_count": 20,
     "metadata": {},
     "output_type": "execute_result"
    },
    {
     "data": {
      "image/png": "[encoded data removed]",
      "text/plain": [
       "<Figure size 432x288 with 1 Axes>"
      ]
     },
     "metadata": {
      "needs_background": "light"
     },
     "output_type": "display_data"
    }
   ],
   "source": [
    "sns.boxplot(x=\"smoker\", y=\"charges\", data=df)"
   ]
  },
  {
   "cell_type": "markdown",
   "id": "6f3dc66f-4359-4323-ab7e-3bb2228d5c2f",
   "metadata": {},
   "source": [
    "<details>\n",
    "    <summary>Click here for Solution</summary>\n",
    "\n",
    "```python\n",
    "sns.boxplot(x=\"smoker\", y=\"charges\", data=df)\n",
    "```\n",
    "</details>\n"
   ]
  },
  {
   "cell_type": "markdown",
   "id": "681e06b7-f162-447b-843e-d256cfcb3fa2",
   "metadata": {},
   "source": [
    "Print the correlation matrix for the dataset.\n"
   ]
  },
  {
   "cell_type": "code",
   "execution_count": 21,
   "id": "e74e3f04-3063-4ab7-aedc-24f822262e26",
   "metadata": {},
   "outputs": [
    {
     "data": {
      "text/html": [
       "<div>\n",
       "<style scoped>\n",
       "    .dataframe tbody tr th:only-of-type {\n",
       "        vertical-align: middle;\n",
       "    }\n",
       "\n",
       "    .dataframe tbody tr th {\n",
       "        vertical-align: top;\n",
       "    }\n",
       "\n",
       "    .dataframe thead th {\n",
       "        text-align: right;\n",
       "    }\n",
       "</style>\n",
       "<table border=\"1\" class=\"dataframe\">\n",
       "  <thead>\n",
       "    <tr style=\"text-align: right;\">\n",
       "      <th></th>\n",
       "      <th>age</th>\n",
       "      <th>gender</th>\n",
       "      <th>bmi</th>\n",
       "      <th>no_of_children</th>\n",
       "      <th>smoker</th>\n",
       "      <th>region</th>\n",
       "      <th>charges</th>\n",
       "    </tr>\n",
       "  </thead>\n",
       "  <tbody>\n",
       "    <tr>\n",
       "      <th>age</th>\n",
       "      <td>1.000000</td>\n",
       "      <td>-0.026046</td>\n",
       "      <td>0.113048</td>\n",
       "      <td>0.037574</td>\n",
       "      <td>-0.023286</td>\n",
       "      <td>-0.007167</td>\n",
       "      <td>0.298624</td>\n",
       "    </tr>\n",
       "    <tr>\n",
       "      <th>gender</th>\n",
       "      <td>-0.026046</td>\n",
       "      <td>1.000000</td>\n",
       "      <td>0.042924</td>\n",
       "      <td>0.016020</td>\n",
       "      <td>0.082326</td>\n",
       "      <td>0.022213</td>\n",
       "      <td>0.062837</td>\n",
       "    </tr>\n",
       "    <tr>\n",
       "      <th>bmi</th>\n",
       "      <td>0.113048</td>\n",
       "      <td>0.042924</td>\n",
       "      <td>1.000000</td>\n",
       "      <td>-0.001492</td>\n",
       "      <td>0.011489</td>\n",
       "      <td>0.271119</td>\n",
       "      <td>0.199846</td>\n",
       "    </tr>\n",
       "    <tr>\n",
       "      <th>no_of_children</th>\n",
       "      <td>0.037574</td>\n",
       "      <td>0.016020</td>\n",
       "      <td>-0.001492</td>\n",
       "      <td>1.000000</td>\n",
       "      <td>0.006362</td>\n",
       "      <td>-0.025717</td>\n",
       "      <td>0.066442</td>\n",
       "    </tr>\n",
       "    <tr>\n",
       "      <th>smoker</th>\n",
       "      <td>-0.023286</td>\n",
       "      <td>0.082326</td>\n",
       "      <td>0.011489</td>\n",
       "      <td>0.006362</td>\n",
       "      <td>1.000000</td>\n",
       "      <td>0.054077</td>\n",
       "      <td>0.788783</td>\n",
       "    </tr>\n",
       "    <tr>\n",
       "      <th>region</th>\n",
       "      <td>-0.007167</td>\n",
       "      <td>0.022213</td>\n",
       "      <td>0.271119</td>\n",
       "      <td>-0.025717</td>\n",
       "      <td>0.054077</td>\n",
       "      <td>1.000000</td>\n",
       "      <td>0.054058</td>\n",
       "    </tr>\n",
       "    <tr>\n",
       "      <th>charges</th>\n",
       "      <td>0.298624</td>\n",
       "      <td>0.062837</td>\n",
       "      <td>0.199846</td>\n",
       "      <td>0.066442</td>\n",
       "      <td>0.788783</td>\n",
       "      <td>0.054058</td>\n",
       "      <td>1.000000</td>\n",
       "    </tr>\n",
       "  </tbody>\n",
       "</table>\n",
       "</div>"
      ],
      "text/plain": [
       "                     age    gender       bmi  no_of_children    smoker  \\\n",
       "age             1.000000 -0.026046  0.113048        0.037574 -0.023286   \n",
       "gender         -0.026046  1.000000  0.042924        0.016020  0.082326   \n",
       "bmi             0.113048  0.042924  1.000000       -0.001492  0.011489   \n",
       "no_of_children  0.037574  0.016020 -0.001492        1.000000  0.006362   \n",
       "smoker         -0.023286  0.082326  0.011489        0.006362  1.000000   \n",
       "region         -0.007167  0.022213  0.271119       -0.025717  0.054077   \n",
       "charges         0.298624  0.062837  0.199846        0.066442  0.788783   \n",
       "\n",
       "                  region   charges  \n",
       "age            -0.007167  0.298624  \n",
       "gender          0.022213  0.062837  \n",
       "bmi             0.271119  0.199846  \n",
       "no_of_children -0.025717  0.066442  \n",
       "smoker          0.054077  0.788783  \n",
       "region          1.000000  0.054058  \n",
       "charges         0.054058  1.000000  "
      ]
     },
     "execution_count": 21,
     "metadata": {},
     "output_type": "execute_result"
    }
   ],
   "source": [
    "df.corr()"
   ]
  },
  {
   "cell_type": "markdown",
   "id": "8c7298bd-5d2e-44bb-91b8-0c39b91ccff2",
   "metadata": {},
   "source": [
    "<details>\n",
    "    <summary>Click here for Solution</summary>\n",
    "\n",
    "```python\n",
    "print(df.corr())\n",
    "```\n",
    "</details>\n"
   ]
  },
  {
   "cell_type": "markdown",
   "id": "b5a03c3d-ef46-4a38-928e-f53e5e694840",
   "metadata": {},
   "source": [
    "# Task 4 : Model Development\n",
    "\n",
    "Fit a linear regression model that may be used to predict the `charges` value, just by using the `smoker` attribute of the dataset. Print the $ R^2 $ score of this model.\n"
   ]
  },
  {
   "cell_type": "code",
   "execution_count": 22,
   "id": "ad126824-7f90-404b-b063-0be76fab5298",
   "metadata": {},
   "outputs": [
    {
     "name": "stdout",
     "output_type": "stream",
     "text": [
      "0.6221791733924185\n"
     ]
    }
   ],
   "source": [
    "X = df[['smoker']]\n",
    "Y = df['charges']\n",
    "lm = LinearRegression()\n",
    "lm.fit(X,Y)\n",
    "print(lm.score(X, Y))"
   ]
  },
  {
   "cell_type": "markdown",
   "id": "05907bea-f279-4c26-abef-834b80a60fa5",
   "metadata": {},
   "source": [
    "<details>\n",
    "    <summary>Click here for Solution</summary>\n",
    "\n",
    "```python\n",
    "X = df[['smoker']]\n",
    "Y = df['charges']\n",
    "lm = LinearRegression()\n",
    "lm.fit(X,Y)\n",
    "print(lm.score(X, Y))\n",
    "```\n",
    "</details>\n"
   ]
  },
  {
   "cell_type": "markdown",
   "id": "2f196d1b-62f0-4297-8923-9f20e0f121a1",
   "metadata": {},
   "source": [
    "Fit a linear regression model that may be used to predict the `charges` value, just by using all other attributes of the dataset. Print the $ R^2 $ score of this model. You should see an improvement in the performance.\n"
   ]
  },
  {
   "cell_type": "code",
   "execution_count": 23,
   "id": "f9561829-912c-456b-9b6e-86315424ea2c",
   "metadata": {},
   "outputs": [
    {
     "name": "stdout",
     "output_type": "stream",
     "text": [
      "0.7504083820289634\n"
     ]
    }
   ],
   "source": [
    "# definition of Y and lm remain same as used in last cell. \n",
    "Z = df[[\"age\", \"gender\", \"bmi\", \"no_of_children\", \"smoker\", \"region\"]]\n",
    "lm.fit(Z,Y)\n",
    "print(lm.score(Z, Y))"
   ]
  },
  {
   "cell_type": "markdown",
   "id": "4ab645e3-e827-45fd-a95a-fd3dc25da356",
   "metadata": {},
   "source": [
    "<details>\n",
    "    <summary>Click here for Solution</summary>\n",
    "\n",
    "```python\n",
    "# definition of Y and lm remain same as used in last cell. \n",
    "Z = df[[\"age\", \"gender\", \"bmi\", \"no_of_children\", \"smoker\", \"region\"]]\n",
    "lm.fit(Z,Y)\n",
    "print(lm.score(Z, Y))\n",
    "```\n",
    "</details>\n"
   ]
  },
  {
   "cell_type": "markdown",
   "id": "1776a321-581a-4332-a5e5-dfd7b7956288",
   "metadata": {},
   "source": [
    "Create a training pipeline that uses `StandardScaler()`, `PolynomialFeatures()` and `LinearRegression()` to create a model that can predict the `charges` value using all the other attributes of the dataset. There should be even further improvement in the performance.\n"
   ]
  },
  {
   "cell_type": "code",
   "execution_count": 24,
   "id": "6808a34e-c191-4f7f-9e26-0a6fe36a4a23",
   "metadata": {},
   "outputs": [
    {
     "data": {
      "text/plain": [
       "array([24012.,  3008.,  5436., ..., 21892.,  2480., 12084.])"
      ]
     },
     "execution_count": 24,
     "metadata": {},
     "output_type": "execute_result"
    }
   ],
   "source": [
    "# Y and Z use the same values as defined in previous cells \n",
    "Input=[('scale',StandardScaler()), ('polynomial', PolynomialFeatures(include_bias=False)), ('model', LinearRegression())]\n",
    "pipe=Pipeline(Input)\n",
    "Z = Z.astype(float)\n",
    "pipe.fit(Z,Y)\n",
    "ypipe=pipe.predict(Z)\n",
    "ypipe"
   ]
  },
  {
   "cell_type": "code",
   "execution_count": 25,
   "metadata": {},
   "outputs": [
    {
     "name": "stdout",
     "output_type": "stream",
     "text": [
      "0.8449898146619641\n"
     ]
    }
   ],
   "source": [
    "print(r2_score(Y,ypipe))"
   ]
  },
  {
   "cell_type": "code",
   "execution_count": 26,
   "metadata": {},
   "outputs": [
    {
     "data": {
      "text/html": [
       "<style>#sk-container-id-1 {color: black;}#sk-container-id-1 pre{padding: 0;}#sk-container-id-1 div.sk-toggleable {background-color: white;}#sk-container-id-1 label.sk-toggleable__label {cursor: pointer;display: block;width: 100%;margin-bottom: 0;padding: 0.3em;box-sizing: border-box;text-align: center;}#sk-container-id-1 label.sk-toggleable__label-arrow:before {content: \"▸\";float: left;margin-right: 0.25em;color: #696969;}#sk-container-id-1 label.sk-toggleable__label-arrow:hover:before {color: black;}#sk-container-id-1 div.sk-estimator:hover label.sk-toggleable__label-arrow:before {color: black;}#sk-container-id-1 div.sk-toggleable__content {max-height: 0;max-width: 0;overflow: hidden;text-align: left;background-color: #f0f8ff;}#sk-container-id-1 div.sk-toggleable__content pre {margin: 0.2em;color: black;border-radius: 0.25em;background-color: #f0f8ff;}#sk-container-id-1 input.sk-toggleable__control:checked~div.sk-toggleable__content {max-height: 200px;max-width: 100%;overflow: auto;}#sk-container-id-1 input.sk-toggleable__control:checked~label.sk-toggleable__label-arrow:before {content: \"▾\";}#sk-container-id-1 div.sk-estimator input.sk-toggleable__control:checked~label.sk-toggleable__label {background-color: #d4ebff;}#sk-container-id-1 div.sk-label input.sk-toggleable__control:checked~label.sk-toggleable__label {background-color: #d4ebff;}#sk-container-id-1 input.sk-hidden--visually {border: 0;clip: rect(1px 1px 1px 1px);clip: rect(1px, 1px, 1px, 1px);height: 1px;margin: -1px;overflow: hidden;padding: 0;position: absolute;width: 1px;}#sk-container-id-1 div.sk-estimator {font-family: monospace;background-color: #f0f8ff;border: 1px dotted black;border-radius: 0.25em;box-sizing: border-box;margin-bottom: 0.5em;}#sk-container-id-1 div.sk-estimator:hover {background-color: #d4ebff;}#sk-container-id-1 div.sk-parallel-item::after {content: \"\";width: 100%;border-bottom: 1px solid gray;flex-grow: 1;}#sk-container-id-1 div.sk-label:hover label.sk-toggleable__label {background-color: #d4ebff;}#sk-container-id-1 div.sk-serial::before {content: \"\";position: absolute;border-left: 1px solid gray;box-sizing: border-box;top: 0;bottom: 0;left: 50%;z-index: 0;}#sk-container-id-1 div.sk-serial {display: flex;flex-direction: column;align-items: center;background-color: white;padding-right: 0.2em;padding-left: 0.2em;position: relative;}#sk-container-id-1 div.sk-item {position: relative;z-index: 1;}#sk-container-id-1 div.sk-parallel {display: flex;align-items: stretch;justify-content: center;background-color: white;position: relative;}#sk-container-id-1 div.sk-item::before, #sk-container-id-1 div.sk-parallel-item::before {content: \"\";position: absolute;border-left: 1px solid gray;box-sizing: border-box;top: 0;bottom: 0;left: 50%;z-index: -1;}#sk-container-id-1 div.sk-parallel-item {display: flex;flex-direction: column;z-index: 1;position: relative;background-color: white;}#sk-container-id-1 div.sk-parallel-item:first-child::after {align-self: flex-end;width: 50%;}#sk-container-id-1 div.sk-parallel-item:last-child::after {align-self: flex-start;width: 50%;}#sk-container-id-1 div.sk-parallel-item:only-child::after {width: 0;}#sk-container-id-1 div.sk-dashed-wrapped {border: 1px dashed gray;margin: 0 0.4em 0.5em 0.4em;box-sizing: border-box;padding-bottom: 0.4em;background-color: white;}#sk-container-id-1 div.sk-label label {font-family: monospace;font-weight: bold;display: inline-block;line-height: 1.2em;}#sk-container-id-1 div.sk-label-container {text-align: center;}#sk-container-id-1 div.sk-container {/* jupyter's `normalize.less` sets `[hidden] { display: none; }` but bootstrap.min.css set `[hidden] { display: none !important; }` so we also need the `!important` here to be able to override the default hidden behavior on the sphinx rendered scikit-learn.org. See: https://github.com/scikit-learn/scikit-learn/issues/21755 */display: inline-block !important;position: relative;}#sk-container-id-1 div.sk-text-repr-fallback {display: none;}</style><div id=\"sk-container-id-1\" class=\"sk-top-container\"><div class=\"sk-text-repr-fallback\"><pre>Pipeline(steps=[(&#x27;scale&#x27;, StandardScaler()),\n",
       "                (&#x27;polynomial&#x27;, PolynomialFeatures(include_bias=False)),\n",
       "                (&#x27;model&#x27;, LinearRegression())])</pre><b>In a Jupyter environment, please rerun this cell to show the HTML representation or trust the notebook. <br />On GitHub, the HTML representation is unable to render, please try loading this page with nbviewer.org.</b></div><div class=\"sk-container\" hidden><div class=\"sk-item sk-dashed-wrapped\"><div class=\"sk-label-container\"><div class=\"sk-label sk-toggleable\"><input class=\"sk-toggleable__control sk-hidden--visually\" id=\"sk-estimator-id-1\" type=\"checkbox\" ><label for=\"sk-estimator-id-1\" class=\"sk-toggleable__label sk-toggleable__label-arrow\">Pipeline</label><div class=\"sk-toggleable__content\"><pre>Pipeline(steps=[(&#x27;scale&#x27;, StandardScaler()),\n",
       "                (&#x27;polynomial&#x27;, PolynomialFeatures(include_bias=False)),\n",
       "                (&#x27;model&#x27;, LinearRegression())])</pre></div></div></div><div class=\"sk-serial\"><div class=\"sk-item\"><div class=\"sk-estimator sk-toggleable\"><input class=\"sk-toggleable__control sk-hidden--visually\" id=\"sk-estimator-id-2\" type=\"checkbox\" ><label for=\"sk-estimator-id-2\" class=\"sk-toggleable__label sk-toggleable__label-arrow\">StandardScaler</label><div class=\"sk-toggleable__content\"><pre>StandardScaler()</pre></div></div></div><div class=\"sk-item\"><div class=\"sk-estimator sk-toggleable\"><input class=\"sk-toggleable__control sk-hidden--visually\" id=\"sk-estimator-id-3\" type=\"checkbox\" ><label for=\"sk-estimator-id-3\" class=\"sk-toggleable__label sk-toggleable__label-arrow\">PolynomialFeatures</label><div class=\"sk-toggleable__content\"><pre>PolynomialFeatures(include_bias=False)</pre></div></div></div><div class=\"sk-item\"><div class=\"sk-estimator sk-toggleable\"><input class=\"sk-toggleable__control sk-hidden--visually\" id=\"sk-estimator-id-4\" type=\"checkbox\" ><label for=\"sk-estimator-id-4\" class=\"sk-toggleable__label sk-toggleable__label-arrow\">LinearRegression</label><div class=\"sk-toggleable__content\"><pre>LinearRegression()</pre></div></div></div></div></div></div></div>"
      ],
      "text/plain": [
       "Pipeline(steps=[('scale', StandardScaler()),\n",
       "                ('polynomial', PolynomialFeatures(include_bias=False)),\n",
       "                ('model', LinearRegression())])"
      ]
     },
     "execution_count": 26,
     "metadata": {},
     "output_type": "execute_result"
    }
   ],
   "source": [
    "pipe"
   ]
  },
  {
   "cell_type": "markdown",
   "id": "02668585-353e-4660-9f24-feb2d80d2ef3",
   "metadata": {},
   "source": [
    "<details>\n",
    "    <summary>Click here for Solution</summary>\n",
    "\n",
    "```python\n",
    "# Y and Z use the same values as defined in previous cells \n",
    "Input=[('scale',StandardScaler()), ('polynomial', PolynomialFeatures(include_bias=False)), ('model', LinearRegression())]\n",
    "pipe=Pipeline(Input)\n",
    "Z = Z.astype(float)\n",
    "pipe.fit(Z,Y)\n",
    "ypipe=pipe.predict(Z)\n",
    "print(r2_score(Y,ypipe))\n",
    "```\n",
    "</details>\n"
   ]
  },
  {
   "cell_type": "markdown",
   "id": "5a16a947-85ae-4466-ac49-a2dcdb234481",
   "metadata": {},
   "source": [
    "# Task 5 : Model Refinement\n",
    "\n",
    "Split the data into training and testing subsets, assuming that 20% of the data will be reserved for testing.\n"
   ]
  },
  {
   "cell_type": "code",
   "execution_count": 27,
   "id": "a12e8460-01de-4aae-beb9-53abe4c486fd",
   "metadata": {},
   "outputs": [],
   "source": [
    "x_train, x_test, y_train, y_test = train_test_split(Z, Y, test_size=0.2, random_state=1)"
   ]
  },
  {
   "cell_type": "markdown",
   "id": "89574325-87fa-491b-a1f4-7b06f738cf58",
   "metadata": {},
   "source": [
    "<details>\n",
    "    <summary>Click here for Solution</summary>\n",
    "\n",
    "```python\n",
    "# Z and Y hold same values as in previous cells\n",
    "x_train, x_test, y_train, y_test = train_test_split(Z, Y, test_size=0.2, random_state=1)\n",
    "```\n",
    "</details>\n"
   ]
  },
  {
   "cell_type": "markdown",
   "id": "06c8b22d-11b0-41e7-b987-1663e4c73821",
   "metadata": {},
   "source": [
    "Initialize a Ridge regressor that used hyperparameter $ \\alpha = 0.1 $. Fit the model using training data data subset. Print the $ R^2 $ score for the testing data.\n"
   ]
  },
  {
   "cell_type": "code",
   "execution_count": 28,
   "id": "1c650a5d-cce5-4f4c-a7eb-c67b1cbe502b",
   "metadata": {},
   "outputs": [
    {
     "data": {
      "text/plain": [
       "array([ 3.36239578e+04,  2.05267061e+03,  8.57740601e+03,  3.37111147e+03,\n",
       "        2.97575871e+04,  2.78819796e+03,  3.23868238e+04,  4.45330069e+00,\n",
       "       -1.13365022e+03,  1.55324961e+04,  7.30893116e+03,  1.54574228e+04,\n",
       "        1.28501072e+04,  3.03976921e+04,  1.32035325e+04,  2.09635713e+03,\n",
       "        1.37809657e+04,  4.73785777e+03,  1.44463556e+04,  1.81543164e+04,\n",
       "        1.34993816e+04,  3.84744500e+03,  4.90348643e+03,  4.01574431e+04,\n",
       "        2.87307465e+04,  1.25955529e+04,  3.81320996e+04,  5.67617576e+03,\n",
       "        1.26404148e+04,  2.80107334e+04,  1.35648594e+04,  1.10490446e+04,\n",
       "        2.89370456e+04,  5.43420543e+03,  1.26403808e+03,  1.00923487e+04,\n",
       "        4.04275696e+03,  1.49689136e+04,  1.15454562e+04,  1.22130588e+04,\n",
       "        1.11640838e+04,  1.26258309e+04,  2.35789378e+04,  1.33074308e+04,\n",
       "        4.68000224e+03,  1.74570227e+03,  3.58805002e+03,  1.04357473e+04,\n",
       "        1.18515664e+04,  1.47070412e+04,  2.86600616e+04,  1.08702576e+04,\n",
       "        1.01247893e+04,  1.24979014e+04,  5.61899777e+03,  1.48267126e+04,\n",
       "        1.02512763e+04,  1.14066610e+04,  4.56626509e+03,  8.17222843e+03,\n",
       "        1.65254757e+04,  1.40094511e+04,  1.18515664e+04,  3.40429833e+04,\n",
       "        3.86586762e+03,  1.27418368e+04,  2.61609696e+04,  4.45449058e+03,\n",
       "        3.81192310e+03,  1.49908818e+03,  3.59993522e+03,  2.30837158e+03,\n",
       "        1.16254018e+04,  3.12080634e+04,  3.10015194e+03,  3.59184358e+04,\n",
       "        5.39345028e+03,  3.18301381e+04,  9.92557166e+03,  1.10135227e+04,\n",
       "        2.61567064e+04,  1.08165946e+04,  2.84890541e+03,  6.20364714e+03,\n",
       "        9.42856632e+03,  8.67968675e+03,  2.99719223e+04,  9.21624235e+03,\n",
       "        8.99410069e+03,  5.16222294e+03,  3.36639388e+04,  9.05840730e+03,\n",
       "        1.40605715e+04,  1.07909429e+04,  5.82377416e+03,  7.35179771e+03,\n",
       "        1.71022045e+04,  8.34980314e+03,  5.67360632e+03,  2.89212867e+03,\n",
       "        1.84174065e+03,  2.54671165e+03,  1.53707054e+04,  1.22020358e+04,\n",
       "       -4.05028179e+02,  2.97618109e+04,  1.26404148e+04,  4.91569174e+03,\n",
       "        8.81979386e+03,  9.92557166e+03,  6.91936248e+03,  1.03373456e+04,\n",
       "        3.29332228e+04,  3.38962685e+04,  4.18812930e+01,  1.77096060e+03,\n",
       "        3.42390011e+04,  4.04405903e+03,  8.61062632e+03,  1.97461526e+03,\n",
       "        1.39986307e+04,  3.99940286e+04,  6.01027710e+03,  9.34960678e+03,\n",
       "        1.07566048e+04,  1.71444822e+04,  2.77452027e+04,  5.77733154e+03,\n",
       "        2.60544925e+03,  1.08165946e+04,  1.48585256e+04,  7.35179771e+03,\n",
       "        3.44380534e+03,  5.01866228e+03,  1.08071332e+04,  6.20058088e+03,\n",
       "        8.93288400e+03,  1.50116904e+04,  9.54275475e+03,  1.31073578e+04,\n",
       "        3.89034578e+03,  1.16547196e+04,  3.52679684e+04,  3.02418769e+04,\n",
       "        1.31520346e+04,  5.08535466e+03,  1.15462481e+04,  3.17139708e+04,\n",
       "        9.94503893e+03,  1.53187724e+04,  3.86887826e+04,  1.18936301e+03,\n",
       "        6.66234010e+03,  1.10865772e+04,  2.46361353e+04,  1.19277273e+04,\n",
       "        6.34855376e+03,  1.93362327e+04,  3.97856989e+03,  1.53707054e+04,\n",
       "        1.17559883e+04,  6.57550093e+03,  1.02512763e+04,  6.66234010e+03,\n",
       "        2.94431206e+04,  7.68379779e+03,  6.72410542e+03,  8.27165294e+03,\n",
       "        4.85583796e+03,  1.60107314e+04,  1.35812216e+04, -1.21543677e+03,\n",
       "        1.45193586e+04,  8.47294704e+03,  4.67997194e+02,  4.04085300e+04,\n",
       "        1.02057750e+04,  8.02355129e+03,  8.24629255e+03,  3.42481339e+04,\n",
       "        9.62053361e+03,  2.24271958e+03,  1.14269523e+04,  2.54841323e+02,\n",
       "        8.66062637e+03,  9.92757870e+03,  5.46204774e+03,  6.39859342e+03,\n",
       "        5.12051796e+03,  7.11047131e+03,  9.95499675e+02,  5.37822199e+03,\n",
       "        3.51403675e+04,  5.76522722e+03,  9.54177806e+03,  1.15545732e+04,\n",
       "        1.23381544e+04, -1.74200564e+03,  2.10098634e+03,  1.19631589e+04,\n",
       "        9.08435834e+03,  6.71229252e+03,  1.56086411e+04,  5.55471454e+03,\n",
       "        1.18592088e+04,  9.96568423e+03,  4.93123713e+03,  3.23312383e+04,\n",
       "        1.04007287e+04,  4.11305304e+04,  1.00332218e+04,  8.66062637e+03,\n",
       "        9.42162992e+03,  4.87987364e+03,  9.59124821e+03,  1.23589713e+04,\n",
       "        1.46459101e+04,  6.63300442e+03,  8.36487944e+03,  1.72426544e+03,\n",
       "        1.43415201e+04,  7.11047131e+03,  5.70186301e+03,  7.78537572e+03,\n",
       "        1.02554215e+04,  1.39986307e+04,  5.67617576e+03,  3.17712850e+04,\n",
       "        3.41680925e+04,  6.40763785e+03,  8.17222843e+03,  9.88018334e+03,\n",
       "       -2.33986166e+02,  1.54866624e+04,  3.02294925e+03,  1.26695384e+04,\n",
       "        1.45578119e+04,  7.38106272e+03,  3.42830728e+04,  2.73001345e+04,\n",
       "        3.55143722e+03,  7.22724401e+03,  1.05105916e+04,  6.62397816e+03,\n",
       "        1.55413596e+04,  3.32633274e+03,  1.01540984e+04, -1.21543677e+03,\n",
       "        2.84001261e+04,  3.60595789e+04,  2.17700254e+03,  8.34980314e+03,\n",
       "        9.09953345e+03,  5.08535466e+03,  1.97461526e+03,  1.14180240e+04,\n",
       "        8.39625870e+03,  2.24271958e+03, -1.06478080e+03,  4.17697667e+03,\n",
       "        5.02130547e+03,  5.75653400e+03,  5.45935143e+03,  6.92430697e+03,\n",
       "        3.63997364e+04,  1.64129211e+04,  2.27690041e+03,  7.96804609e+03,\n",
       "        1.38030186e+04,  5.73886765e+03,  1.76984583e+04,  6.75045442e+03,\n",
       "        2.14663976e+03,  3.04132226e+04,  1.31031757e+04,  1.76984583e+04,\n",
       "        1.15050568e+04,  8.80152211e+03,  1.12130052e+04,  7.12041670e+03,\n",
       "        4.04405903e+03,  2.17700254e+03,  3.04132226e+04,  5.43420543e+03,\n",
       "        3.88588817e+03,  1.27418368e+04,  2.36620793e+03,  3.15653795e+04,\n",
       "        2.65031491e+04,  1.48509027e+04,  3.12869995e+04,  8.68906949e+03,\n",
       "        1.22130588e+04,  1.01462767e+04,  3.16258458e+04,  3.81192310e+03,\n",
       "        3.84744500e+03,  3.06677312e+04,  3.34764126e+04,  1.14004938e+04,\n",
       "        3.11620594e+04,  1.53363895e+03,  1.00314444e+04,  1.43411602e+02,\n",
       "        3.31346158e+03,  9.35230309e+03,  9.81365366e+03,  2.99606745e+03,\n",
       "        3.96409758e+03,  8.22990806e+03,  4.77162899e+03,  9.81365366e+03,\n",
       "        3.43281445e+04,  1.41146336e+04,  1.15050568e+04,  2.64053982e+04,\n",
       "        3.78284526e+04,  1.46411005e+04,  8.77091950e+03,  9.64084456e+03,\n",
       "        1.44720876e+04,  7.05637189e+03,  1.08471555e+04,  4.55699792e+03,\n",
       "        4.11305304e+04,  1.24224627e+04,  9.96568423e+03,  1.38957298e+04,\n",
       "        3.57484695e+04,  1.19931352e+04,  5.74777674e+03,  2.96287631e+03,\n",
       "        1.96932889e+03,  1.55972957e+04,  7.38483319e+03,  1.26893877e+04,\n",
       "        4.69569460e+03,  3.15586921e+03,  3.13266933e+04,  3.18986596e+04,\n",
       "        1.61002019e+04,  1.71949027e+04,  7.21987062e+03,  3.42509312e+04,\n",
       "        2.13456496e+03,  7.19114357e+03,  1.01646608e+04,  1.10918503e+04,\n",
       "        3.89677301e+03,  1.51341167e+02,  3.37314304e+04,  3.48223205e+03,\n",
       "        3.36172329e+04,  9.31758334e+03,  3.32977199e+03,  5.05247590e+03,\n",
       "        1.21432658e+04,  3.70875116e+03,  1.72567928e+04,  1.49853382e+04,\n",
       "        9.08435834e+03,  1.11894930e+04,  5.23128337e+03,  8.67745794e+03,\n",
       "        1.50266259e+04,  3.07873064e+04,  7.91852802e+03,  1.54866624e+04,\n",
       "        5.49224868e+03,  1.32166374e+04,  2.74105283e+04,  2.30837158e+03,\n",
       "        7.98684397e+03,  1.41818177e+04,  9.34725076e+03,  1.11774567e+04,\n",
       "        2.14118928e+03,  1.47184514e+04,  1.02164650e+04,  1.19048001e+04,\n",
       "        9.34878522e+03,  2.65635829e+04,  5.77506288e+03,  1.19442598e+04,\n",
       "        1.20282058e+04,  1.28374702e+04,  6.28779453e+03,  3.04915342e+04,\n",
       "        3.90310346e+04,  2.61567064e+04,  4.49626521e+03,  3.38211217e+03,\n",
       "        3.51403675e+04,  4.87966679e+03,  3.60408128e+04,  2.44832757e+03,\n",
       "        1.41146336e+04,  1.06662213e+04,  1.55371089e+04,  2.88929875e+04,\n",
       "        9.77912952e+03,  3.81365465e+03,  1.48267126e+04,  2.58074381e+04,\n",
       "        6.12890242e+03,  1.45766531e+04,  6.73729479e+03,  6.81813706e+03,\n",
       "        2.10507691e+03,  3.22677873e+04,  6.96337944e+03,  2.88274537e+04,\n",
       "        3.84432532e+03,  2.66603481e+04,  1.10919749e+04,  1.22293588e+04,\n",
       "        1.27504400e+04,  1.92315556e+03,  1.27274473e+04,  3.00215658e+04,\n",
       "        7.19345820e+03,  2.93039739e+04,  2.97618109e+04,  8.99579954e+03,\n",
       "        7.00546905e+03,  9.25662590e+03,  1.49908818e+03,  2.10235403e+03,\n",
       "        3.39216128e+04,  3.18301381e+04,  3.59998183e+04,  1.29533413e+04,\n",
       "        6.13205910e+03,  1.15891476e+04,  2.76002209e+04,  1.19048001e+04,\n",
       "        9.42454245e+03,  1.18184643e+04, -1.02112215e+03,  9.20412162e+03,\n",
       "        2.85113422e+03,  4.87987364e+03,  9.16065132e+03,  2.84890541e+03,\n",
       "        3.36239578e+04,  1.63623231e+04,  3.29368116e+04,  4.79326744e+03,\n",
       "        2.93039739e+04,  1.82322216e+03,  2.30702970e+04,  2.98679647e+03,\n",
       "        5.93857353e+03,  7.43872884e+03,  3.18990503e+04,  8.99261447e+03,\n",
       "        5.58440079e+03,  2.14118928e+03,  1.64872559e+04,  8.47745059e+03,\n",
       "        3.29448238e+04,  6.72354924e+03,  1.19295421e+04,  4.55699792e+03,\n",
       "        1.40605715e+04,  6.13205910e+03,  1.40352180e+04,  4.79326744e+03,\n",
       "        3.54290195e+04,  4.45972354e+03,  8.62048584e+03,  3.38962685e+04,\n",
       "        1.12739613e+04,  1.49908818e+03,  9.05840730e+03,  2.69496011e+04,\n",
       "        1.65005624e+03,  3.25080600e+04,  1.39814279e+04,  3.11620594e+04,\n",
       "        1.85532074e+03,  1.41671778e+04,  8.62048584e+03,  1.53187724e+04,\n",
       "        3.36172329e+04,  9.05312411e+03,  5.47708390e+03,  8.88117572e+03,\n",
       "        1.06889150e+04,  8.86487281e+03,  6.43450279e+03,  3.78763136e+03,\n",
       "        2.66603481e+04,  6.23101876e+03,  2.23439641e+03,  9.63146761e+03,\n",
       "        7.78537572e+03,  2.77593350e+03,  8.99410069e+03,  6.94630054e+03,\n",
       "        8.85284359e+03,  2.70728466e+04,  1.63133694e+04,  6.18612151e+03,\n",
       "        1.54505382e+04,  2.36620793e+03,  1.02554215e+04,  1.51873128e+04,\n",
       "        4.43739556e+03,  1.15784962e+04,  2.77452027e+04,  8.68792869e+03,\n",
       "        5.97326348e+03,  5.47708390e+03,  3.13085400e+01,  6.56593722e+03,\n",
       "        1.09931409e+04,  3.20822157e+02,  6.05259332e+03,  6.39859342e+03,\n",
       "        1.40918323e+04,  3.04915342e+04,  1.25056921e+04,  5.68910453e+03,\n",
       "        7.96202262e+03,  1.02093907e+04,  7.42465410e+03,  8.39065925e+02,\n",
       "        2.02238197e+03,  1.77538586e+03,  9.45671063e+03,  3.35140671e+04,\n",
       "        1.03662566e+04,  9.54177806e+03,  3.68359942e+04,  3.89780755e+03,\n",
       "        4.72089016e+02,  1.24051339e+04,  2.57061043e+04,  7.12041670e+03,\n",
       "        4.67588810e+03,  1.22234081e+04,  8.68792869e+03,  1.19048001e+04,\n",
       "        8.41575741e+03,  1.01391998e+04,  9.97545513e+03,  1.08245407e+04,\n",
       "        2.72291601e+03,  6.57550093e+03,  3.22360787e+03,  9.05312411e+03,\n",
       "        3.81359700e+04,  7.91852802e+03,  3.07923503e+04])"
      ]
     },
     "execution_count": 28,
     "metadata": {},
     "output_type": "execute_result"
    }
   ],
   "source": [
    "# x_train, x_test, y_train, y_test hold same values as in previous cells\n",
    "RidgeModel=Ridge(alpha=0.1)\n",
    "RidgeModel.fit(x_train, y_train)\n",
    "yhat = RidgeModel.predict(x_test)\n",
    "yhat"
   ]
  },
  {
   "cell_type": "code",
   "execution_count": 29,
   "metadata": {},
   "outputs": [
    {
     "name": "stdout",
     "output_type": "stream",
     "text": [
      "0.6760807731582403\n"
     ]
    }
   ],
   "source": [
    "print(r2_score(y_test,yhat))"
   ]
  },
  {
   "cell_type": "markdown",
   "id": "ef9b2ad8-3e05-42d5-9135-fa3dba18d842",
   "metadata": {},
   "source": [
    "<details>\n",
    "    <summary>Click here for Solution</summary>\n",
    "\n",
    "```python\n",
    "# x_train, x_test, y_train, y_test hold same values as in previous cells\n",
    "RidgeModel=Ridge(alpha=0.1)\n",
    "RidgeModel.fit(x_train, y_train)\n",
    "yhat = RidgeModel.predict(x_test)\n",
    "print(r2_score(y_test,yhat))\n",
    "```\n",
    "</details>\n"
   ]
  },
  {
   "cell_type": "markdown",
   "id": "34aeac81-890b-4895-8dad-c4507ad519ac",
   "metadata": {},
   "source": [
    "Apply polynomial transformation to the training parameters with degree=2. Use this transformed feature set to fit the same regression model, as above, using the training subset. Print the $ R^2 $ score for the testing subset.\n"
   ]
  },
  {
   "cell_type": "code",
   "execution_count": 30,
   "id": "51a28cf2-633d-48a8-9796-6d1af5144bb7",
   "metadata": {},
   "outputs": [
    {
     "data": {
      "text/plain": [
       "array([41583.21157462,  4717.15399889,  7846.49061233,  2182.15373478,\n",
       "       21336.03204419,  3516.82585838, 26259.79625415,  2990.55757539,\n",
       "        3335.36049481, 14245.13524107,  5136.06615098,  9445.94991745,\n",
       "       10523.57050349, 21203.60210044, 10718.37913464,  3830.6138132 ,\n",
       "       11577.54069853,  5707.2685872 , 12873.49774567, 11141.86956523,\n",
       "        5334.54088967,  6082.48961208,  1428.05349293, 47716.12468922,\n",
       "       20537.73310019,  9344.25136189, 51573.17308102,  6889.48846513,\n",
       "       12577.45955752, 28272.96846344, 12892.81752336, 12821.41426043,\n",
       "       30316.32086045,  5587.05736859,  4522.24845736, 13293.67940721,\n",
       "        3543.58695151, 15119.58336743, 11849.42132473, 12449.08379825,\n",
       "       14021.33501346, 12625.89312281, 14663.36934505, 13034.68769436,\n",
       "        1523.04084711,  3076.10972264,  4193.2777334 ,  9341.24464088,\n",
       "       14599.14402104, 10562.14046516, 25377.25298755, 11536.31017094,\n",
       "        8328.25150104, 11288.49283022,  3379.41988797, 13212.66285517,\n",
       "       10585.59687188,  9130.29041509,  4141.78541346,  8610.32017057,\n",
       "       14598.45284149, 14539.15488376, 14599.14402104, 30853.84290442,\n",
       "        4629.31093144, 15180.04054669, 23763.06009467,  2549.96278324,\n",
       "        7320.84532195,  3237.42369104,  6948.59988504,  5558.53208095,\n",
       "        8298.04919803, 34418.53526194,  3038.94018579, 35974.56191962,\n",
       "        8243.26688455, 34537.19767041, 10517.62808693, 13779.57938646,\n",
       "       21263.68799336,  5096.14183585,  2531.11873805,  5783.87943326,\n",
       "       11197.51451345,  9705.22709832, 17225.23700026,  5080.96839271,\n",
       "       11011.25907256,  4016.10729019, 27283.68822425, 12729.95880073,\n",
       "       12982.43770615,  9747.32066181,  5346.56792662,  7084.62644094,\n",
       "       15281.0638138 , 10179.98960824,  2520.24390995,  2123.53587648,\n",
       "        3073.46671626,  3952.54706356, 12340.96463964, 13543.77371394,\n",
       "        3077.76256065, 31907.21830438, 12577.45955752,  6741.72831985,\n",
       "        6317.94858006, 10517.62808693,  8428.08290904,   364.58029352,\n",
       "       36710.68756153, 47839.89120422,  2277.39056539,  2093.30033617,\n",
       "       24891.22075373,  4440.95455435,  9506.23474864,  3290.38581672,\n",
       "       13189.70815137, 47104.37779258,  5428.52579592,  7971.28323255,\n",
       "        8727.41703516, 16765.72601571, 31604.17910936,  7160.7733652 ,\n",
       "        3746.25442445,  5096.14183585, 13891.31933878,  7084.62644094,\n",
       "        4619.84887883,  5663.9101872 , 12655.5969568 ,  7833.63253328,\n",
       "       10395.60810839, 13276.73435233,  9237.42648436, 14923.75637478,\n",
       "        2784.03051485, 11936.90531558, 41647.85267536, 36346.08795762,\n",
       "       10485.90970867,  4164.24329123, 10200.64552137, 25244.79816763,\n",
       "        9141.12847109, 14315.15825395, 49283.91291726,  2867.16608875,\n",
       "        7375.30486614, 10232.1227748 , 15915.37680692, 11681.42771264,\n",
       "        3078.69738444, 18186.94775179,  5206.13186315, 12340.96463964,\n",
       "        9884.98128408,  8977.03344673, 10585.59687188,  7375.30486614,\n",
       "       37092.67205295,  6611.93502281,  6246.82391225,  9618.06690087,\n",
       "        4918.63731731, 12095.55774757, 13604.35304437,  3430.6272931 ,\n",
       "       13227.49766577, 11402.22332471,  2488.93141825, 47584.53037773,\n",
       "        9957.87620277,  3931.06947683,  4183.3120658 , 36180.04638917,\n",
       "        7850.94243515,  3208.2108119 , 14027.21758453,  3093.62602809,\n",
       "       10591.88908645,  8572.87402572,  6823.55875925,  9018.98381131,\n",
       "        5471.41824277,  8011.29976137,  4461.71635793,  2884.97283837,\n",
       "       39127.37568235,  6282.5527958 ,  7706.97512489, 10794.40187643,\n",
       "       11304.46475312,  2423.2182581 ,  3463.76852167,  8852.28040519,\n",
       "        8756.95091376,  6708.02640229,  7801.98242323,  6041.3877443 ,\n",
       "       12294.99083204,  7751.34130193,  6668.02605716, 27951.24180849,\n",
       "        8248.93741642, 49261.30595945,  3341.96865886, 10591.88908645,\n",
       "        9716.84680727,  7088.17727983, 10512.23969662, 12219.70314667,\n",
       "       12433.78066625,  5414.95681876,  9187.8352344 ,  3303.68635151,\n",
       "       11240.33184407,  8011.29976137,  5835.72236424,  9467.56494264,\n",
       "        4388.07815239, 13189.70815137,  6889.48846513, 26004.87450229,\n",
       "       36969.336323  ,  7355.92840006,  8610.32017057, 10978.79658544,\n",
       "        3101.37506252, 16039.91278292,  3437.37730514, 11747.93805296,\n",
       "       14768.28586227,  6518.36420223, 33837.15364273, 27664.86149364,\n",
       "        5151.71824117,  7523.49698352, 11388.36047238,  7921.72914358,\n",
       "       17358.50544298,  3537.46250055, 11024.13260779,  3430.6272931 ,\n",
       "       18404.80284713, 37315.54978329,  3453.24003705, 10179.98960824,\n",
       "        9453.46322223,  4164.24329123,  3290.38581672, 12184.30935546,\n",
       "        5667.27675878,  3208.2108119 ,  2634.36297973,  4155.60240177,\n",
       "        5811.06236543,  4956.12444038,  4777.44907409,  8077.5650671 ,\n",
       "       35997.08034522, 14461.54800279,  5586.59237105,  8381.68726332,\n",
       "       14270.15334469,  7772.97429776, 12308.98890568,  7109.6894433 ,\n",
       "        2652.14413491, 23312.16515677, 12534.27886066, 12308.98890568,\n",
       "       12589.24477947,  7598.58405145, 10962.15225004,  9513.90869918,\n",
       "        4440.95455435,  3453.24003705, 23312.16515677,  5587.05736859,\n",
       "        4269.71452353, 15180.04054669,  3366.91682886, 28142.50388686,\n",
       "       16240.17573824, 16530.02287637, 45533.86354574,  9781.56748526,\n",
       "       12449.08379825, 11982.24282388, 33397.23119465,  7320.84532195,\n",
       "        6082.48961208, 26302.54840785, 28074.81595502, 10322.34423279,\n",
       "       20799.18236618,  3350.52925847, 10551.39924176,  2954.57676445,\n",
       "        3929.6986256 , 10914.39368172,  1911.39215508,  3541.7168779 ,\n",
       "        3017.46128889,  6292.6864492 ,  5830.73359962,  1911.39215508,\n",
       "       38952.47691167, 13184.6932896 , 12589.24477947, 20448.65270246,\n",
       "       53312.1748144 , 13071.50854953,  8884.41438346, 10857.33363398,\n",
       "       15401.14485941,  1604.88928562,  8622.30155614,  5021.29436562,\n",
       "       49261.30595945, 10338.60549295,  7751.34130193, 13275.64598472,\n",
       "       39864.58210099,  9518.63202533,  7679.47692366,  1826.23507343,\n",
       "        3232.89659431, 14761.91871635, 10131.19980403, 12702.4780306 ,\n",
       "        3697.58075892,  3015.66686037, 31029.57532905, 24865.82070471,\n",
       "       17682.76865862, 13139.20521354,  7442.26511402, 30646.94661054,\n",
       "        3431.83379688,  6156.1085321 , 10093.01907845, 14169.91176704,\n",
       "        6440.0783468 ,  2832.39415196, 38576.70908825,  4246.3782985 ,\n",
       "       25656.97807577,  9814.84394501,  5319.06679072,  1362.2686549 ,\n",
       "       12008.15377078,  5828.6655225 , 15543.89113354, 15061.05399755,\n",
       "        8756.95091376, 13660.97161844,  3865.53233697, 10698.39198412,\n",
       "       12339.95089902, 39220.85228087,  3025.26675137, 16039.91278292,\n",
       "        5683.57446138, 14066.31491366, 25550.50938217,  5558.53208095,\n",
       "       10618.98225933, 11379.42379484, 10534.79726983,  6468.50904125,\n",
       "        3468.69734703,  8269.26367687, 10385.28909049, 11917.0354073 ,\n",
       "       10623.1900673 , 26077.56889505,  6898.79788455, 13362.34225356,\n",
       "        6908.50983574, 13986.36085332,  4541.7105128 , 36938.40813418,\n",
       "       49571.65817159, 21263.68799336,  4614.4919474 ,  4652.1621361 ,\n",
       "       39127.37568235,  7492.10886277, 42562.92000268,  4634.26169891,\n",
       "       13184.6932896 , 12680.89666308, 16147.29013881, 21346.19001376,\n",
       "        9969.56689148,  4730.84675052, 13212.66285517, 24743.00802718,\n",
       "         505.24156837, 13012.16970934,  6465.90097995,  7714.52826938,\n",
       "        5191.99100314, 21508.75338902,  6902.09389724, 26745.80928821,\n",
       "        6691.92362607, 18210.86448421,  8582.1782098 , 14493.66204544,\n",
       "       14656.29782371,  2686.09069005, 13773.12220627, 37034.47885425,\n",
       "        7756.77042849, 27885.89743868, 31907.21830438,  8379.89566542,\n",
       "        6615.11315732,  4743.38016996,  3237.42369104,  3136.75428519,\n",
       "       32564.43903758, 34537.19767041, 41290.65694314, 10658.45564173,\n",
       "        8111.8880309 , 12280.39514736, 24941.10578385, 11917.0354073 ,\n",
       "       10383.88253614, 14099.39551194,  2337.72329297,  8316.99194605,\n",
       "        1856.62280098,  7088.17727983,  8324.59279729,  2531.11873805,\n",
       "       41583.21157462, 10570.74778504, 41827.44552829,  3235.87942396,\n",
       "       27885.89743868,  2729.67283957,  7671.37679938,  5958.49468956,\n",
       "        8056.14136718,  7854.26012926, 28935.0323082 ,  9740.09792338,\n",
       "        6563.57352835,  3468.69734703, 16263.96163324,  8241.15430225,\n",
       "       24870.15232907,  4639.99567629, 11530.83438777,  5021.29436562,\n",
       "       12982.43770615,  8111.8880309 , 15028.08984367,  3235.87942396,\n",
       "       28718.23651697,  2567.28351318,  5259.4350425 , 47839.89120422,\n",
       "       10846.36786205,  3237.42369104, 12729.95880073, 27840.11159962,\n",
       "        4686.40919296, 31014.22475996, 15013.0032096 , 20799.18236618,\n",
       "        3406.4716138 , 15038.0051773 ,  5259.4350425 , 14315.15825395,\n",
       "       25656.97807577,  9590.01245934,  3910.11875525,  9498.96164088,\n",
       "        9449.44813666, 12668.06907016,  4172.29751134,  6045.45597038,\n",
       "       18210.86448421,  5843.20512704,  5749.11979479,  7785.7418311 ,\n",
       "        9467.56494264,  4924.92847136, 11011.25907256,  4651.08779501,\n",
       "        5819.32091198, 22964.80526272, 15837.3288776 ,  5749.02368774,\n",
       "       10084.84233788,  3366.91682886,  4388.07815239, 14194.17741609,\n",
       "        6093.35888764, 13741.66607639, 31604.17910936,  9921.47903949,\n",
       "        6814.05764544,  3910.11875525,  2353.46106608,  8053.59182231,\n",
       "       12622.23650905,  2493.03364921,  6210.77367965,  9018.98381131,\n",
       "       13208.09540129, 36938.40813418, 11466.92069213,  5970.79441193,\n",
       "        7906.38642505,  9362.65470459,  7120.47168876,  3351.43847922,\n",
       "        3760.40287608,  2910.11479322, 10393.27819323, 38294.07016397,\n",
       "       10530.50060369,  7706.97512489, 40239.80987694,  1820.62700459,\n",
       "        3100.83043787, 11621.19203507, 22936.96663343,  9513.90869918,\n",
       "        6017.97496538, 11197.97725299,  9921.47903949, 11917.0354073 ,\n",
       "        8390.87409369, 11396.94418714, 10502.43747625, 11362.23063081,\n",
       "        4951.64688536,  8977.03344673,  1751.02548914,  9590.01245934,\n",
       "       41256.58665885,  3025.26675137, 24694.43966151])"
      ]
     },
     "execution_count": 30,
     "metadata": {},
     "output_type": "execute_result"
    }
   ],
   "source": [
    "# x_train, x_test, y_train, y_test hold same values as in previous cells\n",
    "pr = PolynomialFeatures(degree=2)\n",
    "x_train_pr = pr.fit_transform(x_train)\n",
    "x_test_pr = pr.fit_transform(x_test)\n",
    "RidgeModel.fit(x_train_pr, y_train)\n",
    "y_hat = RidgeModel.predict(x_test_pr)\n",
    "y_hat"
   ]
  },
  {
   "cell_type": "code",
   "execution_count": 31,
   "metadata": {},
   "outputs": [
    {
     "name": "stdout",
     "output_type": "stream",
     "text": [
      "0.783563110760813\n"
     ]
    }
   ],
   "source": [
    "print(r2_score(y_test,y_hat))"
   ]
  },
  {
   "cell_type": "markdown",
   "id": "329564be-00a2-487e-8c90-4f50f490aa17",
   "metadata": {},
   "source": [
    "<details>\n",
    "    <summary>Click here for Solution</summary>\n",
    "\n",
    "```python\n",
    "# x_train, x_test, y_train, y_test hold same values as in previous cells\n",
    "pr = PolynomialFeatures(degree=2)\n",
    "x_train_pr = pr.fit_transform(x_train)\n",
    "x_test_pr = pr.fit_transform(x_test)\n",
    "RidgeModel.fit(x_train_pr, y_train)\n",
    "y_hat = RidgeModel.predict(x_test_pr)\n",
    "print(r2_score(y_test,y_hat))\n",
    "```\n",
    "</details>\n"
   ]
  },
  {
   "cell_type": "markdown",
   "id": "420e328b-3344-443e-8fdc-1582fbde160d",
   "metadata": {},
   "source": [
    "# Congratulations! You have completed this project\n"
   ]
  },
  {
   "cell_type": "markdown",
   "id": "dbb62135-f9c8-4d37-8633-464e5371c5b6",
   "metadata": {},
   "source": [
    "## Authors\n"
   ]
  },
  {
   "cell_type": "markdown",
   "id": "83c8a3e8-a124-4a88-bdde-165b12f285c8",
   "metadata": {},
   "source": [
    "[Abhishek Gagneja](https://www.coursera.org/instructor/~129186572)\n",
    "\n",
    "[Vicky Kuo](https://author.skills.network/instructors/vicky_kuo)\n"
   ]
  },
  {
   "cell_type": "markdown",
   "id": "6cec297a-d46b-4737-952f-ca033cf45bfa",
   "metadata": {},
   "source": [
    "## Change Log\n"
   ]
  },
  {
   "cell_type": "markdown",
   "id": "47195a46-5c29-435c-ad70-2a0e93feae96",
   "metadata": {},
   "source": [
    "|Date (YYYY-MM-DD)|Version|Changed By|Change Description|\n",
    "|-|-|-|-|\n",
    "|2023-09-16|0.1|Abhishek Gagneja|Initial Version Created|\n",
    "|2023-09-19|0.2|Vicky Kuo|Reviewed and Revised|\n"
   ]
  },
  {
   "cell_type": "markdown",
   "id": "102e52f2-5ce6-4a60-87e8-b2d7ed41aee3",
   "metadata": {},
   "source": [
    "<h3> Copyright © 2023 IBM Corporation. All rights reserved. </h3>\n"
   ]
  }
 ],
 "metadata": {
  "kernelspec": {
   "display_name": "Python 3 (ipykernel)",
   "language": "python",
   "name": "python3"
  },
  "language_info": {
   "codemirror_mode": {
    "name": "ipython",
    "version": 3
   },
   "file_extension": ".py",
   "mimetype": "text/x-python",
   "name": "python",
   "nbconvert_exporter": "python",
   "pygments_lexer": "ipython3",
   "version": "3.9.7"
  }
 },
 "nbformat": 4,
 "nbformat_minor": 4
}
